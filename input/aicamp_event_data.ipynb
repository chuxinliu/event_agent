{
 "cells": [
  {
   "cell_type": "code",
   "execution_count": 8,
   "id": "eb77060d-8df1-4d40-b286-fcca9be17f16",
   "metadata": {},
   "outputs": [],
   "source": [
    "import requests\n",
    "from bs4 import BeautifulSoup\n",
    "import json\n",
    "from datetime import datetime"
   ]
  },
  {
   "cell_type": "code",
   "execution_count": 10,
   "id": "008024a3-6747-4877-bfbb-000584fbeb4a",
   "metadata": {},
   "outputs": [],
   "source": [
    "def scrape_event_details(url):\n",
    "    try:\n",
    "        # Send GET request to the URL\n",
    "        headers = {\n",
    "            'User-Agent': 'Mozilla/5.0 (Windows NT 10.0; Win64; x64) AppleWebKit/537.36 (KHTML, like Gecko) Chrome/91.0.4472.124 Safari/537.36'\n",
    "        }\n",
    "        r = requests.get(url, headers=headers)\n",
    "        r.raise_for_status()  # Raise an exception for bad status codes\n",
    "        \n",
    "        # Parse the HTML content\n",
    "        soup = BeautifulSoup(r.text, 'html.parser')\n",
    "        \n",
    "        # Extract event details\n",
    "        event_data = {\n",
    "            'title': None,\n",
    "            'date_time': None,\n",
    "            'description': None,\n",
    "            'location': None,\n",
    "            'organizer': None\n",
    "        }\n",
    "        \n",
    "        # Example selectors (you'll need to adjust these based on the actual webpage structure)\n",
    "        try:\n",
    "            event_data['title'] = soup.find('h4').text # 'AI Study Group (Virtual): 5-Day Challenge for Agentic AI'\n",
    "        except AttributeError:\n",
    "            pass\n",
    "            \n",
    "        try:\n",
    "            event_data['description'] = soup.find('div', class_=\"jq-tab-content\").text.replace(\"\\n\",\"\").replace(\"\\r\",\"\") #event_content\n",
    "        except AttributeError:\n",
    "            pass\n",
    "            \n",
    "        try:\n",
    "            event_data['date_time'] =(soup.find_all('div')[10].text.split('\\n ')[1]).split('.')[0] # 'Jan 01, 09:00 AM PST'\n",
    "        except AttributeError:\n",
    "            pass\n",
    "\n",
    "        try:\n",
    "            event_data['location'] = soup.find('li',class_=\"justify-content-between d-flex\").text.split('\\n ')[1] #'Virtual'\n",
    "        except AttributeError:\n",
    "            pass\n",
    "\n",
    "        try:\n",
    "            event_data['organizer'] = soup.find('title').text #'AICamp'\n",
    "        except AttributeError:\n",
    "            pass\n",
    "        # Clean up the data by removing None values\n",
    "        event_data = {k: v for k, v in event_data.items() if v is not None}\n",
    "        \n",
    "        return event_data\n",
    "        \n",
    "    except requests.RequestException as e:\n",
    "        print(f\"Error fetching the webpage: {e}\")\n",
    "        return None\n",
    "    except Exception as e:\n",
    "        print(f\"Error parsing the webpage: {e}\")\n",
    "        return None"
   ]
  },
  {
   "cell_type": "code",
   "execution_count": 12,
   "id": "7b744372-215f-4e85-8b58-8a79f24d738f",
   "metadata": {},
   "outputs": [
    {
     "name": "stdout",
     "output_type": "stream",
     "text": [
      "Event Details:\n",
      "Title: AI Study Group (Virtual): 5-Day Challenge for Agentic AI\n",
      "Date_time: Jan 01, 09:00 AM PST\n",
      "Description: Join our study group for an exciting 5-day challenge to learn and build AI agents together! Explore the fundamentals of AI agents, their architecture, and how they interact with the environment. Each day features focused tasks, collaborative discussions, and hands-on coding exercises. By the end, you’ll have a solid foundation and even a working AI agent prototype. Let’s learn, create, and grow together!Study program structure* Self paced learning materials with virtual meeting * Daily course (30-60 minutes): Focused on specific technologies/concepts.* Daily practice: Hands-on activities using the learned concepts.By the end of the study program, participants will have:* Understand foundational concepts of AI agents;* Build hands-on experience creating simple AI agents;* Explore agent-environment interactions;* Dive into advanced topics such as multi-agent systems;* Apply their knowledge in a real-world project;* Participants who complete the study program will receive a certificate showcasing their skills in AI.Who is this study group for?Developers who wants to learn and build AI agent.  Prerequisites Programing language like Python; Have a google cloud and Github account.Schedule:Full details will be posted in the study group on Discord.Day 1: Foundations of AI Agents, self pacedDay 2: Understanding Agent-Environment Interaction, self pacedDay 3: Introduction to Learning Agents, self pacedDay 4: Multi-Agent Systems , self pacedDay 5: Conclusion, Final Project, Demo/showcase, Online meetingLeads/Instructors:Rishav A. Venue:virtual on Discord. Join Discord (select and join the \"study-group-5-day-challenge-for-agentic-ai\" channel)Use Discord for ALL communications, updates, discussions and questions. \n",
      "Location: Virtual\n",
      "Organizer: AICamp\n"
     ]
    }
   ],
   "source": [
    "# Example usage\n",
    "if __name__ == \"__main__\":\n",
    "    url = \"https://www.aicamp.ai/event/eventdetails/W2025010100\"  # Replace with your URL\n",
    "    event_data = scrape_event_details(url)\n",
    "    \n",
    "    if event_data:\n",
    "        print(\"Event Details:\")\n",
    "        for key, value in event_data.items():\n",
    "            print(f\"{key.capitalize()}: {value}\")\n",
    "            "
   ]
  },
  {
   "cell_type": "code",
   "execution_count": null,
   "id": "b5256f4f-fae2-4d4e-a69b-10795f9e052c",
   "metadata": {},
   "outputs": [],
   "source": []
  }
 ],
 "metadata": {
  "kernelspec": {
   "display_name": "Python [conda env:base] *",
   "language": "python",
   "name": "conda-base-py"
  },
  "language_info": {
   "codemirror_mode": {
    "name": "ipython",
    "version": 3
   },
   "file_extension": ".py",
   "mimetype": "text/x-python",
   "name": "python",
   "nbconvert_exporter": "python",
   "pygments_lexer": "ipython3",
   "version": "3.12.7"
  }
 },
 "nbformat": 4,
 "nbformat_minor": 5
}
